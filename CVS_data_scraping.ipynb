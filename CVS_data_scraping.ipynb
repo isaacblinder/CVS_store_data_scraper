{
 "cells": [
  {
   "cell_type": "code",
   "execution_count": 1,
   "metadata": {},
   "outputs": [],
   "source": [
    "#imports\n",
    "from bs4 import BeautifulSoup\n",
    "import requests\n",
    "import pandas as pd\n",
    "import numpy as np"
   ]
  },
  {
   "cell_type": "code",
   "execution_count": 177,
   "metadata": {},
   "outputs": [],
   "source": [
    "#start at 'pharmacies by state' page\n",
    "base_URL = 'https://www.cvs.com/store-locator/cvs-pharmacy-locations'\n",
    "base_html = requests.get(base_URL).text\n",
    "base_soup = BeautifulSoup(base_html, 'html.parser')\n"
   ]
  },
  {
   "cell_type": "code",
   "execution_count": 189,
   "metadata": {},
   "outputs": [],
   "source": [
    "#gather links to every state's page\n",
    "stateLinks = []\n",
    "states = base_soup.find('div', attrs={'class': 'states'})\n",
    "for ul in states.find_all('ul'):\n",
    "    liList = ul.find_all('li')\n",
    "    for li in liList[:-1]:\n",
    "        link = li.a.get('href')\n",
    "        stateLinks.append('https://www.cvs.com' + str(link))"
   ]
  },
  {
   "cell_type": "code",
   "execution_count": 190,
   "metadata": {},
   "outputs": [
    {
     "data": {
      "text/plain": [
       "'https://www.cvs.com/store-locator/cvs-pharmacy-locations/Alabama'"
      ]
     },
     "execution_count": 190,
     "metadata": {},
     "output_type": "execute_result"
    }
   ],
   "source": [
    "stateLinks[0]"
   ]
  },
  {
   "cell_type": "code",
   "execution_count": 191,
   "metadata": {},
   "outputs": [],
   "source": [
    "#loop through every state and collect the links to every town's direct page\n",
    "links = []\n",
    "for URL in stateLinks:\n",
    "    html = requests.get(URL).text\n",
    "    soup = BeautifulSoup(html, 'html.parser')\n",
    "    stateClass = soup.find('div', attrs={'class': 'states'})\n",
    "    for ul in stateClass.find_all('ul'):\n",
    "        liList = ul.find_all('li')\n",
    "        for li in liList:\n",
    "            link = li.a.get('href')\n",
    "            links.append('https://www.cvs.com' + str(link))\n"
   ]
  },
  {
   "cell_type": "code",
   "execution_count": 284,
   "metadata": {},
   "outputs": [
    {
     "name": "stdout",
     "output_type": "stream",
     "text": [
      "Number of Cities: 4172\n"
     ]
    }
   ],
   "source": [
    "print('Number of Cities: ' + str(len(links)))\n"
   ]
  },
  {
   "cell_type": "code",
   "execution_count": 266,
   "metadata": {},
   "outputs": [
    {
     "name": "stdout",
     "output_type": "stream",
     "text": [
      "checkpoint: 100 cities' data collected\n",
      "checkpoint: 200 cities' data collected\n",
      "checkpoint: 300 cities' data collected\n",
      "checkpoint: 400 cities' data collected\n",
      "checkpoint: 500 cities' data collected\n",
      "checkpoint: 600 cities' data collected\n",
      "checkpoint: 700 cities' data collected\n",
      "checkpoint: 800 cities' data collected\n",
      "checkpoint: 900 cities' data collected\n",
      "checkpoint: 1000 cities' data collected\n",
      "checkpoint: 1100 cities' data collected\n",
      "checkpoint: 1200 cities' data collected\n",
      "checkpoint: 1300 cities' data collected\n",
      "checkpoint: 1400 cities' data collected\n",
      "checkpoint: 1500 cities' data collected\n",
      "checkpoint: 1600 cities' data collected\n",
      "checkpoint: 1700 cities' data collected\n",
      "checkpoint: 1800 cities' data collected\n",
      "checkpoint: 1900 cities' data collected\n",
      "checkpoint: 2000 cities' data collected\n",
      "checkpoint: 2100 cities' data collected\n",
      "checkpoint: 2200 cities' data collected\n",
      "checkpoint: 2300 cities' data collected\n",
      "checkpoint: 2400 cities' data collected\n",
      "checkpoint: 2500 cities' data collected\n",
      "checkpoint: 2600 cities' data collected\n",
      "checkpoint: 2700 cities' data collected\n",
      "checkpoint: 2800 cities' data collected\n",
      "checkpoint: 2900 cities' data collected\n",
      "checkpoint: 3000 cities' data collected\n",
      "checkpoint: 3100 cities' data collected\n",
      "checkpoint: 3200 cities' data collected\n",
      "checkpoint: 3300 cities' data collected\n",
      "checkpoint: 3400 cities' data collected\n",
      "checkpoint: 3500 cities' data collected\n",
      "checkpoint: 3600 cities' data collected\n",
      "checkpoint: 3700 cities' data collected\n",
      "checkpoint: 3800 cities' data collected\n",
      "checkpoint: 3900 cities' data collected\n",
      "checkpoint: 4000 cities' data collected\n",
      "checkpoint: 4100 cities' data collected\n"
     ]
    }
   ],
   "source": [
    "#go to every town's direct page, collect data for each pharmacy in the town, and store data as dataframe\n",
    "storeData = pd.DataFrame()\n",
    "for row,link in enumerate(links):\n",
    "    linkHTML = requests.get(link)\n",
    "    newSoup = BeautifulSoup(linkHTML.text, 'html.parser')\n",
    "    \n",
    "\n",
    "    stores = newSoup.find_all('div',attrs={'class':'each-store'})\n",
    "    for store in stores:\n",
    "        address = ''\n",
    "        phoneNum = ''\n",
    "        storeNum = ''\n",
    "\n",
    "        for storeAttr in store.find_all('p'):\n",
    "            if storeAttr['class'] == ['store-address']:\n",
    "                address = list(storeAttr.stripped_strings)[0]\n",
    "            elif storeAttr['class'] == ['phone-number']:\n",
    "                if len(list(storeAttr.stripped_strings)) == 2:\n",
    "                    phoneNum,storeNum = list(storeAttr.stripped_strings)\n",
    "                elif storeAttr.a != None:\n",
    "                    storeNum = list(storeAttr.a.stripped_strings)[0]\n",
    "                storeNum = storeNum.strip('# ')\n",
    "            \n",
    "        storeInfo = pd.Series([address,phoneNum,storeNum])\n",
    "        storeInfo.name = row\n",
    "        storeData = storeData.append(storeInfo)\n",
    "        \n",
    "    if row % 100 == 0 and row != 0:\n",
    "        print('checkpoint: {} cities\\' data collected'.format(row))\n",
    "    \n",
    "storeData.columns = ['address', 'phone_number','store_number']\n",
    "storeData = storeData.reset_index(drop=True)\n"
   ]
  },
  {
   "cell_type": "code",
   "execution_count": 282,
   "metadata": {},
   "outputs": [
    {
     "name": "stdout",
     "output_type": "stream",
     "text": [
      "Number of Stores: 9303\n"
     ]
    }
   ],
   "source": [
    "print('Number of Stores: ' + str(storeData.shape[0]))"
   ]
  },
  {
   "cell_type": "code",
   "execution_count": 275,
   "metadata": {},
   "outputs": [],
   "source": [
    "#storeData.to_excel('CVS_store_data.xlsx')"
   ]
  }
 ],
 "metadata": {
  "kernelspec": {
   "display_name": "Python 3",
   "language": "python",
   "name": "python3"
  },
  "language_info": {
   "codemirror_mode": {
    "name": "ipython",
    "version": 3
   },
   "file_extension": ".py",
   "mimetype": "text/x-python",
   "name": "python",
   "nbconvert_exporter": "python",
   "pygments_lexer": "ipython3",
   "version": "3.6.3"
  }
 },
 "nbformat": 4,
 "nbformat_minor": 2
}
